{
 "cells": [
  {
   "cell_type": "code",
   "execution_count": 2,
   "id": "286db7ce",
   "metadata": {},
   "outputs": [],
   "source": [
    "import pandas as pd\n",
    "import os"
   ]
  },
  {
   "cell_type": "code",
   "execution_count": 3,
   "id": "93d201cb",
   "metadata": {},
   "outputs": [],
   "source": [
    "raw_file = r\"data/global_events_1900_2022.csv\"\n",
    "output_folder = \"output\"\n",
    "os.makedirs(output_folder, exist_ok=True)"
   ]
  },
  {
   "cell_type": "code",
   "execution_count": 4,
   "id": "e29fdf0e",
   "metadata": {},
   "outputs": [
    {
     "data": {
      "text/html": [
       "<div>\n",
       "<style scoped>\n",
       "    .dataframe tbody tr th:only-of-type {\n",
       "        vertical-align: middle;\n",
       "    }\n",
       "\n",
       "    .dataframe tbody tr th {\n",
       "        vertical-align: top;\n",
       "    }\n",
       "\n",
       "    .dataframe thead th {\n",
       "        text-align: right;\n",
       "    }\n",
       "</style>\n",
       "<table border=\"1\" class=\"dataframe\">\n",
       "  <thead>\n",
       "    <tr style=\"text-align: right;\">\n",
       "      <th></th>\n",
       "      <th>Dis No</th>\n",
       "      <th>Year</th>\n",
       "      <th>Seq</th>\n",
       "      <th>Glide</th>\n",
       "      <th>Disaster Group</th>\n",
       "      <th>Disaster Subgroup</th>\n",
       "      <th>Disaster Type</th>\n",
       "      <th>Disaster Subtype</th>\n",
       "      <th>Disaster Subsubtype</th>\n",
       "      <th>Event Name</th>\n",
       "      <th>...</th>\n",
       "      <th>Reconstruction Costs, Adjusted ('000 US$)</th>\n",
       "      <th>Insured Damages ('000 US$)</th>\n",
       "      <th>Insured Damages, Adjusted ('000 US$)</th>\n",
       "      <th>Total Damages ('000 US$)</th>\n",
       "      <th>Total Damages, Adjusted ('000 US$)</th>\n",
       "      <th>CPI</th>\n",
       "      <th>Adm Level</th>\n",
       "      <th>Admin1 Code</th>\n",
       "      <th>Admin2 Code</th>\n",
       "      <th>Geo Locations</th>\n",
       "    </tr>\n",
       "  </thead>\n",
       "  <tbody>\n",
       "    <tr>\n",
       "      <th>0</th>\n",
       "      <td>1900-9002-CPV</td>\n",
       "      <td>1900</td>\n",
       "      <td>9002</td>\n",
       "      <td>NaN</td>\n",
       "      <td>Natural</td>\n",
       "      <td>Climatological</td>\n",
       "      <td>Drought</td>\n",
       "      <td>Drought</td>\n",
       "      <td>NaN</td>\n",
       "      <td>NaN</td>\n",
       "      <td>...</td>\n",
       "      <td>NaN</td>\n",
       "      <td>NaN</td>\n",
       "      <td>NaN</td>\n",
       "      <td>NaN</td>\n",
       "      <td>NaN</td>\n",
       "      <td>3.077091</td>\n",
       "      <td>NaN</td>\n",
       "      <td>NaN</td>\n",
       "      <td>NaN</td>\n",
       "      <td>NaN</td>\n",
       "    </tr>\n",
       "    <tr>\n",
       "      <th>1</th>\n",
       "      <td>1900-9001-IND</td>\n",
       "      <td>1900</td>\n",
       "      <td>9001</td>\n",
       "      <td>NaN</td>\n",
       "      <td>Natural</td>\n",
       "      <td>Climatological</td>\n",
       "      <td>Drought</td>\n",
       "      <td>Drought</td>\n",
       "      <td>NaN</td>\n",
       "      <td>NaN</td>\n",
       "      <td>...</td>\n",
       "      <td>NaN</td>\n",
       "      <td>NaN</td>\n",
       "      <td>NaN</td>\n",
       "      <td>NaN</td>\n",
       "      <td>NaN</td>\n",
       "      <td>3.077091</td>\n",
       "      <td>NaN</td>\n",
       "      <td>NaN</td>\n",
       "      <td>NaN</td>\n",
       "      <td>NaN</td>\n",
       "    </tr>\n",
       "    <tr>\n",
       "      <th>2</th>\n",
       "      <td>1904-0003-BGD</td>\n",
       "      <td>1904</td>\n",
       "      <td>3</td>\n",
       "      <td>NaN</td>\n",
       "      <td>Natural</td>\n",
       "      <td>Meteorological</td>\n",
       "      <td>Storm</td>\n",
       "      <td>Tropical cyclone</td>\n",
       "      <td>NaN</td>\n",
       "      <td>NaN</td>\n",
       "      <td>...</td>\n",
       "      <td>NaN</td>\n",
       "      <td>NaN</td>\n",
       "      <td>NaN</td>\n",
       "      <td>NaN</td>\n",
       "      <td>NaN</td>\n",
       "      <td>3.323258</td>\n",
       "      <td>NaN</td>\n",
       "      <td>NaN</td>\n",
       "      <td>NaN</td>\n",
       "      <td>NaN</td>\n",
       "    </tr>\n",
       "    <tr>\n",
       "      <th>3</th>\n",
       "      <td>1906-0023-BEL</td>\n",
       "      <td>1906</td>\n",
       "      <td>23</td>\n",
       "      <td>NaN</td>\n",
       "      <td>Natural</td>\n",
       "      <td>Hydrological</td>\n",
       "      <td>Flood</td>\n",
       "      <td>NaN</td>\n",
       "      <td>NaN</td>\n",
       "      <td>NaN</td>\n",
       "      <td>...</td>\n",
       "      <td>NaN</td>\n",
       "      <td>NaN</td>\n",
       "      <td>NaN</td>\n",
       "      <td>NaN</td>\n",
       "      <td>NaN</td>\n",
       "      <td>3.323258</td>\n",
       "      <td>NaN</td>\n",
       "      <td>NaN</td>\n",
       "      <td>NaN</td>\n",
       "      <td>NaN</td>\n",
       "    </tr>\n",
       "    <tr>\n",
       "      <th>4</th>\n",
       "      <td>1906-0024-BEL</td>\n",
       "      <td>1906</td>\n",
       "      <td>24</td>\n",
       "      <td>NaN</td>\n",
       "      <td>Natural</td>\n",
       "      <td>Hydrological</td>\n",
       "      <td>Flood</td>\n",
       "      <td>NaN</td>\n",
       "      <td>NaN</td>\n",
       "      <td>NaN</td>\n",
       "      <td>...</td>\n",
       "      <td>NaN</td>\n",
       "      <td>NaN</td>\n",
       "      <td>NaN</td>\n",
       "      <td>NaN</td>\n",
       "      <td>NaN</td>\n",
       "      <td>3.323258</td>\n",
       "      <td>NaN</td>\n",
       "      <td>NaN</td>\n",
       "      <td>NaN</td>\n",
       "      <td>NaN</td>\n",
       "    </tr>\n",
       "  </tbody>\n",
       "</table>\n",
       "<p>5 rows × 50 columns</p>\n",
       "</div>"
      ],
      "text/plain": [
       "          Dis No  Year   Seq Glide Disaster Group Disaster Subgroup  \\\n",
       "0  1900-9002-CPV  1900  9002   NaN        Natural    Climatological   \n",
       "1  1900-9001-IND  1900  9001   NaN        Natural    Climatological   \n",
       "2  1904-0003-BGD  1904     3   NaN        Natural    Meteorological   \n",
       "3  1906-0023-BEL  1906    23   NaN        Natural      Hydrological   \n",
       "4  1906-0024-BEL  1906    24   NaN        Natural      Hydrological   \n",
       "\n",
       "  Disaster Type  Disaster Subtype Disaster Subsubtype Event Name  ...  \\\n",
       "0       Drought           Drought                 NaN        NaN  ...   \n",
       "1       Drought           Drought                 NaN        NaN  ...   \n",
       "2         Storm  Tropical cyclone                 NaN        NaN  ...   \n",
       "3         Flood               NaN                 NaN        NaN  ...   \n",
       "4         Flood               NaN                 NaN        NaN  ...   \n",
       "\n",
       "  Reconstruction Costs, Adjusted ('000 US$) Insured Damages ('000 US$)  \\\n",
       "0                                       NaN                        NaN   \n",
       "1                                       NaN                        NaN   \n",
       "2                                       NaN                        NaN   \n",
       "3                                       NaN                        NaN   \n",
       "4                                       NaN                        NaN   \n",
       "\n",
       "  Insured Damages, Adjusted ('000 US$) Total Damages ('000 US$)  \\\n",
       "0                                  NaN                      NaN   \n",
       "1                                  NaN                      NaN   \n",
       "2                                  NaN                      NaN   \n",
       "3                                  NaN                      NaN   \n",
       "4                                  NaN                      NaN   \n",
       "\n",
       "  Total Damages, Adjusted ('000 US$)       CPI Adm Level Admin1 Code  \\\n",
       "0                                NaN  3.077091       NaN         NaN   \n",
       "1                                NaN  3.077091       NaN         NaN   \n",
       "2                                NaN  3.323258       NaN         NaN   \n",
       "3                                NaN  3.323258       NaN         NaN   \n",
       "4                                NaN  3.323258       NaN         NaN   \n",
       "\n",
       "  Admin2 Code Geo Locations  \n",
       "0         NaN           NaN  \n",
       "1         NaN           NaN  \n",
       "2         NaN           NaN  \n",
       "3         NaN           NaN  \n",
       "4         NaN           NaN  \n",
       "\n",
       "[5 rows x 50 columns]"
      ]
     },
     "execution_count": 4,
     "metadata": {},
     "output_type": "execute_result"
    }
   ],
   "source": [
    "dataframe = pd.read_csv(raw_file, encoding='latin1')\n",
    "dataframe.head()"
   ]
  },
  {
   "cell_type": "code",
   "execution_count": 5,
   "id": "6c8530ab",
   "metadata": {},
   "outputs": [
    {
     "name": "stdout",
     "output_type": "stream",
     "text": [
      "<class 'pandas.core.frame.DataFrame'>\n",
      "RangeIndex: 11813 entries, 0 to 11812\n",
      "Data columns (total 50 columns):\n",
      " #   Column                                     Non-Null Count  Dtype  \n",
      "---  ------                                     --------------  -----  \n",
      " 0   Dis No                                     11813 non-null  object \n",
      " 1   Year                                       11813 non-null  int64  \n",
      " 2   Seq                                        11813 non-null  int64  \n",
      " 3   Glide                                      1272 non-null   object \n",
      " 4   Disaster Group                             11813 non-null  object \n",
      " 5   Disaster Subgroup                          11813 non-null  object \n",
      " 6   Disaster Type                              11813 non-null  object \n",
      " 7   Disaster Subtype                           8747 non-null   object \n",
      " 8   Disaster Subsubtype                        1091 non-null   object \n",
      " 9   Event Name                                 2424 non-null   object \n",
      " 10  Country                                    11813 non-null  object \n",
      " 11  ISO                                        11813 non-null  object \n",
      " 12  Region                                     11813 non-null  object \n",
      " 13  Continent                                  11813 non-null  object \n",
      " 14  Location                                   10554 non-null  object \n",
      " 15  Origin                                     3695 non-null   object \n",
      " 16  Associated Dis                             3050 non-null   object \n",
      " 17  Associated Dis2                            686 non-null    object \n",
      " 18  OFDA Response                              1230 non-null   object \n",
      " 19  Appeal                                     1426 non-null   object \n",
      " 20  Declaration                                2094 non-null   object \n",
      " 21  AID Contribution ('000 US$)                597 non-null    float64\n",
      " 22  Dis Mag Value                              3312 non-null   float64\n",
      " 23  Dis Mag Scale                              11813 non-null  object \n",
      " 24  Latitude                                   1112 non-null   float64\n",
      " 25  Longitude                                  1112 non-null   float64\n",
      " 26  Local Time                                 6 non-null      object \n",
      " 27  River Basin                                1307 non-null   object \n",
      " 28  Start Year                                 11813 non-null  int64  \n",
      " 29  Start Month                                11554 non-null  float64\n",
      " 30  Start Day                                  9404 non-null   float64\n",
      " 31  End Year                                   11813 non-null  int64  \n",
      " 32  End Month                                  11228 non-null  float64\n",
      " 33  End Day                                    9404 non-null   float64\n",
      " 34  Total Deaths                               8088 non-null   float64\n",
      " 35  No Injured                                 2519 non-null   float64\n",
      " 36  No Affected                                7043 non-null   float64\n",
      " 37  No Homeless                                1825 non-null   float64\n",
      " 38  Total Affected                             8592 non-null   float64\n",
      " 39  Reconstruction Costs ('000 US$)            23 non-null     float64\n",
      " 40  Reconstruction Costs, Adjusted ('000 US$)  23 non-null     float64\n",
      " 41  Insured Damages ('000 US$)                 986 non-null    float64\n",
      " 42  Insured Damages, Adjusted ('000 US$)       982 non-null    float64\n",
      " 43  Total Damages ('000 US$)                   4521 non-null   float64\n",
      " 44  Total Damages, Adjusted ('000 US$)         4476 non-null   float64\n",
      " 45  CPI                                        11506 non-null  float64\n",
      " 46  Adm Level                                  6904 non-null   object \n",
      " 47  Admin1 Code                                4417 non-null   object \n",
      " 48  Admin2 Code                                3200 non-null   object \n",
      " 49  Geo Locations                              6904 non-null   object \n",
      "dtypes: float64(20), int64(4), object(26)\n",
      "memory usage: 4.5+ MB\n"
     ]
    }
   ],
   "source": [
    "dataframe.info()"
   ]
  },
  {
   "cell_type": "code",
   "execution_count": 6,
   "id": "8f18c8e5",
   "metadata": {},
   "outputs": [
    {
     "name": "stdout",
     "output_type": "stream",
     "text": [
      "1284 3917 6087\n"
     ]
    }
   ],
   "source": [
    "phase1 = dataframe[(dataframe[\"Year\"]>1962) & (dataframe[\"Year\"]<=1982)]\n",
    "phase2 = dataframe[(dataframe[\"Year\"]>1982) & (dataframe[\"Year\"]<=2002)]\n",
    "phase3 = dataframe[(dataframe[\"Year\"]>2002) & (dataframe[\"Year\"]<=2022)]\n",
    "print(phase1.shape[0],phase2.shape[0],phase3.shape[0])"
   ]
  },
  {
   "cell_type": "code",
   "execution_count": 43,
   "id": "ff7cf90a",
   "metadata": {},
   "outputs": [],
   "source": [
    "phase1[\"Country\"].value_counts().to_csv(f\"{output_folder}/phase1_events.csv\")"
   ]
  },
  {
   "cell_type": "code",
   "execution_count": 44,
   "id": "17c7d93b",
   "metadata": {},
   "outputs": [],
   "source": [
    "phase2[\"Country\"].value_counts().to_csv(f\"{output_folder}/phase2_events.csv\")"
   ]
  },
  {
   "cell_type": "code",
   "execution_count": 45,
   "id": "75f960f7",
   "metadata": {},
   "outputs": [],
   "source": [
    "phase3[\"Country\"].value_counts().to_csv(f\"{output_folder}/phase3_events.csv\")"
   ]
  },
  {
   "cell_type": "code",
   "execution_count": 11,
   "id": "003fba9e",
   "metadata": {},
   "outputs": [
    {
     "data": {
      "text/plain": [
       "Flood                  5758\n",
       "Storm                  4585\n",
       "Drought                 792\n",
       "Wildfire                455\n",
       "Extreme temperature     223\n",
       "Name: Disaster Type, dtype: int64"
      ]
     },
     "execution_count": 11,
     "metadata": {},
     "output_type": "execute_result"
    }
   ],
   "source": [
    "dataframe[\"Disaster Type\"].value_counts()"
   ]
  },
  {
   "cell_type": "code",
   "execution_count": 45,
   "id": "639ddd72",
   "metadata": {},
   "outputs": [
    {
     "data": {
      "text/plain": [
       "United States of America (the)    454\n",
       "China                             383\n",
       "India                             268\n",
       "Philippines (the)                 256\n",
       "Indonesia                         189\n",
       "                                 ... \n",
       "Anguilla                            1\n",
       "Wallis and Futuna                   1\n",
       "Estonia                             1\n",
       "Tokelau                             1\n",
       "Sao Tome and Principe               1\n",
       "Name: Country, Length: 211, dtype: int64"
      ]
     },
     "execution_count": 45,
     "metadata": {},
     "output_type": "execute_result"
    }
   ],
   "source": [
    "phase3[\"Country\"].value_counts()"
   ]
  },
  {
   "cell_type": "code",
   "execution_count": 24,
   "id": "1ae0c1df",
   "metadata": {},
   "outputs": [],
   "source": [
    "phase3_flood = phase3[phase3[\"Disaster Type\"]==\"Flood\"]\n",
    "phase3_storm = phase3[phase3[\"Disaster Type\"]==\"Storm\"]\n",
    "\n",
    "phase3_wildfire = phase3[phase3[\"Disaster Type\"]==\"Wildfire\"]\n",
    "phase3_heat = phase3[(phase3[\"Disaster Type\"]==\"Drought\") | (phase3[\"Disaster Type\"]==\"Extreme temperature\")]"
   ]
  },
  {
   "cell_type": "code",
   "execution_count": 44,
   "id": "43ae2b81",
   "metadata": {},
   "outputs": [
    {
     "data": {
      "text/plain": [
       "Flood                  167\n",
       "Storm                   83\n",
       "Extreme temperature     13\n",
       "Drought                  3\n",
       "Wildfire                 2\n",
       "Name: Disaster Type, dtype: int64"
      ]
     },
     "execution_count": 44,
     "metadata": {},
     "output_type": "execute_result"
    }
   ],
   "source": [
    "phase3[phase3[\"Country\"]==\"India\"][\"Disaster Type\"].value_counts()"
   ]
  },
  {
   "cell_type": "code",
   "execution_count": 46,
   "id": "31bb9b50",
   "metadata": {},
   "outputs": [
    {
     "data": {
      "text/plain": [
       "Flood                  183\n",
       "Storm                  176\n",
       "Drought                 17\n",
       "Wildfire                 4\n",
       "Extreme temperature      3\n",
       "Name: Disaster Type, dtype: int64"
      ]
     },
     "execution_count": 46,
     "metadata": {},
     "output_type": "execute_result"
    }
   ],
   "source": [
    "phase3[phase3[\"Country\"]==\"China\"][\"Disaster Type\"].value_counts()"
   ]
  },
  {
   "cell_type": "code",
   "execution_count": 47,
   "id": "4adc4b72",
   "metadata": {},
   "outputs": [
    {
     "data": {
      "text/plain": [
       "Storm                  287\n",
       "Flood                   94\n",
       "Wildfire                56\n",
       "Drought                 11\n",
       "Extreme temperature      6\n",
       "Name: Disaster Type, dtype: int64"
      ]
     },
     "execution_count": 47,
     "metadata": {},
     "output_type": "execute_result"
    }
   ],
   "source": [
    "phase3[phase3[\"Country\"]==\"United States of America (the)\"][\"Disaster Type\"].value_counts()"
   ]
  },
  {
   "cell_type": "code",
   "execution_count": 26,
   "id": "18cfb240",
   "metadata": {},
   "outputs": [
    {
     "data": {
      "text/plain": [
       "United States of America (the)    287\n",
       "China                             176\n",
       "Philippines (the)                 161\n",
       "India                              83\n",
       "Japan                              74\n",
       "                                 ... \n",
       "French Polynesia                    1\n",
       "Bermuda                             1\n",
       "Albania                             1\n",
       "Peru                                1\n",
       "Iraq                                1\n",
       "Name: Country, Length: 176, dtype: int64"
      ]
     },
     "execution_count": 26,
     "metadata": {},
     "output_type": "execute_result"
    }
   ],
   "source": [
    "phase3_storm[\"Country\"].value_counts()"
   ]
  },
  {
   "cell_type": "code",
   "execution_count": 27,
   "id": "2b24446d",
   "metadata": {},
   "outputs": [
    {
     "data": {
      "text/plain": [
       "United States of America (the)                 56\n",
       "Australia                                      19\n",
       "Chile                                          10\n",
       "Spain                                          10\n",
       "Portugal                                        9\n",
       "Russian Federation (the)                        9\n",
       "Canada                                          9\n",
       "Greece                                          7\n",
       "Croatia                                         4\n",
       "France                                          4\n",
       "Indonesia                                       4\n",
       "China                                           4\n",
       "Bolivia (Plurinational State of)                4\n",
       "Korea (the Republic of)                         4\n",
       "Israel                                          3\n",
       "Bulgaria                                        3\n",
       "Algeria                                         3\n",
       "South Africa                                    3\n",
       "Italy                                           3\n",
       "Congo (the Democratic Republic of the)          3\n",
       "Macedonia (the former Yugoslav Republic of)     2\n",
       "Ukraine                                         2\n",
       "India                                           2\n",
       "Tunisia                                         2\n",
       "Argentina                                       2\n",
       "Colombia                                        2\n",
       "Turkey                                          2\n",
       "Paraguay                                        2\n",
       "Lebanon                                         2\n",
       "Mexico                                          2\n",
       "Eswatini                                        1\n",
       "Mozambique                                      1\n",
       "Central African Republic                        1\n",
       "Guatemala                                       1\n",
       "Syrian Arab Republic                            1\n",
       "Honduras                                        1\n",
       "New Zealand                                     1\n",
       "Peru                                            1\n",
       "Guinea                                          1\n",
       "Cyprus                                          1\n",
       "Brazil                                          1\n",
       "South Sudan                                     1\n",
       "Sweden                                          1\n",
       "Montenegro                                      1\n",
       "Canary Is                                       1\n",
       "Latvia                                          1\n",
       "Nepal                                           1\n",
       "Dominican Republic (the)                        1\n",
       "Sierra Leone                                    1\n",
       "Benin                                           1\n",
       "Ecuador                                         1\n",
       "Malaysia                                        1\n",
       "Thailand                                        1\n",
       "Panama                                          1\n",
       "Albania                                         1\n",
       "Pakistan                                        1\n",
       "Name: Country, dtype: int64"
      ]
     },
     "execution_count": 27,
     "metadata": {},
     "output_type": "execute_result"
    }
   ],
   "source": [
    "phase3_wildfire[\"Country\"].value_counts()"
   ]
  },
  {
   "cell_type": "code",
   "execution_count": 28,
   "id": "a101fbb1",
   "metadata": {},
   "outputs": [
    {
     "data": {
      "text/plain": [
       "China                                 20\n",
       "United States of America (the)        17\n",
       "Japan                                 16\n",
       "India                                 16\n",
       "Brazil                                 9\n",
       "                                      ..\n",
       "Venezuela (Bolivarian Republic of)     1\n",
       "Trinidad and Tobago                    1\n",
       "Saint Lucia                            1\n",
       "Saint Vincent and the Grenadines       1\n",
       "Palau                                  1\n",
       "Name: Country, Length: 127, dtype: int64"
      ]
     },
     "execution_count": 28,
     "metadata": {},
     "output_type": "execute_result"
    }
   ],
   "source": [
    "phase3_heat[\"Country\"].value_counts()"
   ]
  },
  {
   "cell_type": "code",
   "execution_count": null,
   "id": "1f3806b6",
   "metadata": {},
   "outputs": [],
   "source": []
  }
 ],
 "metadata": {
  "kernelspec": {
   "display_name": "Python 3 (ipykernel)",
   "language": "python",
   "name": "python3"
  },
  "language_info": {
   "codemirror_mode": {
    "name": "ipython",
    "version": 3
   },
   "file_extension": ".py",
   "mimetype": "text/x-python",
   "name": "python",
   "nbconvert_exporter": "python",
   "pygments_lexer": "ipython3",
   "version": "3.8.10"
  }
 },
 "nbformat": 4,
 "nbformat_minor": 5
}
