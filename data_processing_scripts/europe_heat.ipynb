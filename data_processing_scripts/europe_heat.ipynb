{
 "cells": [
  {
   "cell_type": "code",
   "execution_count": 1,
   "id": "e02245a6",
   "metadata": {},
   "outputs": [],
   "source": [
    "import pandas as pd\n",
    "import os"
   ]
  },
  {
   "cell_type": "code",
   "execution_count": 2,
   "id": "1eaeff87",
   "metadata": {},
   "outputs": [],
   "source": [
    "raw_file = r\"data/europe_heat.csv\"\n",
    "output_folder = \"output\"\n",
    "os.makedirs(output_folder, exist_ok=True)"
   ]
  },
  {
   "cell_type": "code",
   "execution_count": 5,
   "id": "5fe0fb9d",
   "metadata": {},
   "outputs": [
    {
     "name": "stdout",
     "output_type": "stream",
     "text": [
      "<class 'pandas.core.frame.DataFrame'>\n",
      "RangeIndex: 88 entries, 0 to 87\n",
      "Data columns (total 50 columns):\n",
      " #   Column                                     Non-Null Count  Dtype  \n",
      "---  ------                                     --------------  -----  \n",
      " 0   Dis No                                     88 non-null     object \n",
      " 1   Year                                       88 non-null     int64  \n",
      " 2   Seq                                        88 non-null     int64  \n",
      " 3   Glide                                      11 non-null     object \n",
      " 4   Disaster Group                             88 non-null     object \n",
      " 5   Disaster Subgroup                          88 non-null     object \n",
      " 6   Disaster Type                              88 non-null     object \n",
      " 7   Disaster Subtype                           88 non-null     object \n",
      " 8   Disaster Subsubtype                        0 non-null      float64\n",
      " 9   Event Name                                 0 non-null      float64\n",
      " 10  Country                                    88 non-null     object \n",
      " 11  ISO                                        88 non-null     object \n",
      " 12  Region                                     88 non-null     object \n",
      " 13  Continent                                  88 non-null     object \n",
      " 14  Location                                   62 non-null     object \n",
      " 15  Origin                                     0 non-null      float64\n",
      " 16  Associated Dis                             16 non-null     object \n",
      " 17  Associated Dis2                            3 non-null      object \n",
      " 18  OFDA Response                              0 non-null      float64\n",
      " 19  Appeal                                     1 non-null      object \n",
      " 20  Declaration                                3 non-null      object \n",
      " 21  AID Contribution ('000 US$)                0 non-null      float64\n",
      " 22  Dis Mag Value                              54 non-null     float64\n",
      " 23  Dis Mag Scale                              88 non-null     object \n",
      " 24  Latitude                                   0 non-null      float64\n",
      " 25  Longitude                                  0 non-null      float64\n",
      " 26  Local Time                                 1 non-null      float64\n",
      " 27  River Basin                                0 non-null      float64\n",
      " 28  Start Year                                 88 non-null     int64  \n",
      " 29  Start Month                                88 non-null     int64  \n",
      " 30  Start Day                                  54 non-null     float64\n",
      " 31  End Year                                   88 non-null     int64  \n",
      " 32  End Month                                  88 non-null     int64  \n",
      " 33  End Day                                    50 non-null     float64\n",
      " 34  Total Deaths                               74 non-null     float64\n",
      " 35  No Injured                                 11 non-null     float64\n",
      " 36  No Affected                                2 non-null      float64\n",
      " 37  No Homeless                                0 non-null      float64\n",
      " 38  Total Affected                             13 non-null     float64\n",
      " 39  Reconstruction Costs ('000 US$)            0 non-null      float64\n",
      " 40  Reconstruction Costs, Adjusted ('000 US$)  0 non-null      float64\n",
      " 41  Insured Damages ('000 US$)                 1 non-null      float64\n",
      " 42  Insured Damages, Adjusted ('000 US$)       1 non-null      float64\n",
      " 43  Total Damages ('000 US$)                   12 non-null     float64\n",
      " 44  Total Damages, Adjusted ('000 US$)         12 non-null     float64\n",
      " 45  CPI                                        88 non-null     float64\n",
      " 46  Adm Level                                  61 non-null     object \n",
      " 47  Admin1 Code                                52 non-null     object \n",
      " 48  Admin2 Code                                11 non-null     object \n",
      " 49  Geo Locations                              61 non-null     object \n",
      "dtypes: float64(24), int64(6), object(20)\n",
      "memory usage: 34.5+ KB\n"
     ]
    }
   ],
   "source": [
    "dataframe = pd.read_csv(raw_file)\n",
    "dataframe.info()"
   ]
  },
  {
   "cell_type": "code",
   "execution_count": 7,
   "id": "eddf33f7",
   "metadata": {},
   "outputs": [
    {
     "data": {
      "text/plain": [
       "(36, 50)"
      ]
     },
     "execution_count": 7,
     "metadata": {},
     "output_type": "execute_result"
    }
   ],
   "source": [
    "over40_df = dataframe[dataframe[\"Dis Mag Value\"]>=40]\n",
    "over40_df.shape"
   ]
  },
  {
   "cell_type": "code",
   "execution_count": 8,
   "id": "5f65b152",
   "metadata": {},
   "outputs": [
    {
     "data": {
      "text/plain": [
       "France                                                        5\n",
       "Spain                                                         4\n",
       "Italy                                                         4\n",
       "Romania                                                       4\n",
       "Greece                                                        3\n",
       "Macedonia (the former Yugoslav Republic of)                   2\n",
       "Portugal                                                      2\n",
       "Bulgaria                                                      2\n",
       "Serbia Montenegro                                             1\n",
       "Canary Is                                                     1\n",
       "Hungary                                                       1\n",
       "Slovakia                                                      1\n",
       "Serbia                                                        1\n",
       "Russian Federation (the)                                      1\n",
       "United Kingdom of Great Britain and Northern Ireland (the)    1\n",
       "Belgium                                                       1\n",
       "Germany                                                       1\n",
       "Netherlands (the)                                             1\n",
       "Name: Country, dtype: int64"
      ]
     },
     "execution_count": 8,
     "metadata": {},
     "output_type": "execute_result"
    }
   ],
   "source": [
    "over40_df[\"Country\"].value_counts()"
   ]
  },
  {
   "cell_type": "code",
   "execution_count": null,
   "id": "855d606e",
   "metadata": {},
   "outputs": [],
   "source": []
  }
 ],
 "metadata": {
  "kernelspec": {
   "display_name": "Python 3 (ipykernel)",
   "language": "python",
   "name": "python3"
  },
  "language_info": {
   "codemirror_mode": {
    "name": "ipython",
    "version": 3
   },
   "file_extension": ".py",
   "mimetype": "text/x-python",
   "name": "python",
   "nbconvert_exporter": "python",
   "pygments_lexer": "ipython3",
   "version": "3.8.10"
  }
 },
 "nbformat": 4,
 "nbformat_minor": 5
}
